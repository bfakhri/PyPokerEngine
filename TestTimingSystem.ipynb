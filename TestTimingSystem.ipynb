{
 "cells": [
  {
   "cell_type": "code",
   "execution_count": null,
   "id": "bec4859c-5f86-4ddc-a0f7-6edf098d67a2",
   "metadata": {},
   "outputs": [],
   "source": [
    "import numpy as np\n",
    "import matplotlib.pyplot as plt\n",
    "from pypokerengine.players import BasePokerPlayer\n",
    "from pypokerengine.api.game import setup_config, start_poker\n",
    "from pypokerengine.utils.card_utils import gen_cards, estimate_hole_card_win_rate\n",
    "from pypokerengine.engine.hand_evaluator import HandEvaluator\n",
    "from pypokerengine.engine.card import Card"
   ]
  },
  {
   "cell_type": "code",
   "execution_count": null,
   "id": "b82af9ee-aef8-4cba-9565-fac24d7016d3",
   "metadata": {},
   "outputs": [],
   "source": [
    "class HonestPlayer(BasePokerPlayer):\n",
    "    def __init__(self, raise_wr = 0.6, call_wr = 0.3, nb_sim=100):\n",
    "        super().__init__() \n",
    "        self.raise_wr = raise_wr\n",
    "        self.call_wr = call_wr\n",
    "        self.nb_sim = nb_sim\n",
    "        \n",
    "    def declare_action(self, valid_actions, hole_card, round_state):\n",
    "        curframe = inspect.currentframe()\n",
    "        calframe = inspect.getouterframes(curframe, 2)\n",
    "        community_card = round_state['community_card']\n",
    "        win_rate = estimate_hole_card_win_rate(\n",
    "                nb_simulation=self.nb_sim,\n",
    "                nb_player=self.nb_player,\n",
    "                hole_card=gen_cards(hole_card),\n",
    "                community_card=gen_cards(community_card)\n",
    "                )\n",
    "        if win_rate >= self.raise_wr:\n",
    "            #print('Raising)', win_rate)\n",
    "            action = valid_actions[2]  # fetch bet action info\n",
    "            valid_amounts = action['amount']\n",
    "            raise_amount =  (valid_amounts['max'] - valid_amounts['min'])/ 5.0 + valid_amounts['min']\n",
    "            return valid_actions[2]['action'], raise_amount\n",
    "        elif win_rate >= self.call_wr:\n",
    "            #print('Calling')\n",
    "            action = valid_actions[1]  # fetch CALL action info\n",
    "        else:\n",
    "            call_amount = valid_actions[1]['amount']\n",
    "            if(call_amount == 0):\n",
    "                #print('Calling')\n",
    "                return valid_actions[1]['action'], valid_actions[1]['amount']\n",
    "            #print('Folding')\n",
    "            action = valid_actions[0]  # fetch FOLD action info\n",
    "        return action['action'], action['amount']\n",
    "\n",
    "    def receive_game_start_message(self, game_info):\n",
    "        self.nb_player = game_info['player_num']\n",
    "\n",
    "    def receive_round_start_message(self, round_count, hole_card, seats):\n",
    "        pass\n",
    "\n",
    "    def receive_street_start_message(self, street, round_state):\n",
    "        pass\n",
    "\n",
    "    def receive_game_update_message(self, action, round_state):\n",
    "        pass\n",
    "\n",
    "    def receive_round_result_message(self, winners, hand_info, round_state):\n",
    "        pass"
   ]
  },
  {
   "cell_type": "code",
   "execution_count": null,
   "id": "70cc8e93-860b-4be4-91fd-90caf5c76f83",
   "metadata": {},
   "outputs": [],
   "source": [
    "results_dict = {'p1': [], 'p2': [], 'p3': [], 'p4': [], 'p5': []}\n",
    "initial_stack = 1000\n",
    "for i in range(10):\n",
    "    config = setup_config(max_round=100, initial_stack=initial_stack, small_blind_amount=5)\n",
    "    config.register_player(name=\"p1\", algorithm=HonestPlayer(nb_sim=10))\n",
    "    config.register_player(name=\"p2\", algorithm=HonestPlayer(raise_wr = 0.9, call_wr=0.7, nb_sim=50))\n",
    "    config.register_player(name=\"p3\", algorithm=HonestPlayer(raise_wr = 0.3, call_wr=0.1, nb_sim=200))\n",
    "    config.register_player(name=\"p4\", algorithm=HonestPlayer(raise_wr = 0.3, call_wr=0.1, nb_sim=400))\n",
    "    config.register_player(name=\"p5\", algorithm=HonestPlayer(raise_wr = 0.3, call_wr=0.1, nb_sim=10000))\n",
    "    game_result = start_poker(config, verbose=0)\n",
    "    #print(i, game_result)\n",
    "    players = game_result['players']\n",
    "    for player in players:\n",
    "        results_dict[player['name']] += [player['stack'] - initial_stack]\n",
    "\n",
    "print(results_dict)\n",
    "\n"
   ]
  },
  {
   "cell_type": "code",
   "execution_count": null,
   "id": "f431a259-042d-43f4-813d-eb547b15e524",
   "metadata": {},
   "outputs": [],
   "source": [
    "def plot_running_sums(data):\n",
    "  \"\"\"Plots the running sums of a dictionary of arrays.\n",
    "\n",
    "  Args:\n",
    "    data: A dictionary where the keys are labels and the values are arrays of numbers.\n",
    "  \"\"\"\n",
    "\n",
    "  for label, values in data.items():\n",
    "    running_sum = np.cumsum(values)\n",
    "    plt.plot(running_sum, label=label)\n",
    "\n",
    "  plt.xlabel(\"Index\")\n",
    "  plt.ylabel(\"Running Sum\")\n",
    "  plt.legend()\n",
    "  plt.show()\n",
    "\n",
    "plot_running_sums(results_dict)"
   ]
  },
  {
   "cell_type": "code",
   "execution_count": null,
   "id": "c9547a56-9cc7-4a0a-ab35-9e6cf0cc788c",
   "metadata": {},
   "outputs": [],
   "source": []
  }
 ],
 "metadata": {
  "kernelspec": {
   "display_name": "Python 3 (ipykernel)",
   "language": "python",
   "name": "python3"
  },
  "language_info": {
   "codemirror_mode": {
    "name": "ipython",
    "version": 3
   },
   "file_extension": ".py",
   "mimetype": "text/x-python",
   "name": "python",
   "nbconvert_exporter": "python",
   "pygments_lexer": "ipython3",
   "version": "3.12.7"
  }
 },
 "nbformat": 4,
 "nbformat_minor": 5
}
