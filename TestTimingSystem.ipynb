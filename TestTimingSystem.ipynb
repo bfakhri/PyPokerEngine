{
 "cells": [
  {
   "cell_type": "code",
   "execution_count": 1,
   "id": "bec4859c-5f86-4ddc-a0f7-6edf098d67a2",
   "metadata": {},
   "outputs": [],
   "source": [
    "import matplotlib.pyplot as plt\n",
    "import numpy as np\n",
    "from pypokerengine.players import BasePokerPlayer\n",
    "from pypokerengine.api.game import setup_config, start_poker\n",
    "from pypokerengine.utils.card_utils import gen_cards, estimate_hole_card_win_rate\n",
    "import inspect\n",
    "from pypokerengine.engine.hand_evaluator import HandEvaluator\n",
    "from pypokerengine.engine.card import Card\n"
   ]
  },
  {
   "cell_type": "code",
   "execution_count": 2,
   "id": "b82af9ee-aef8-4cba-9565-fac24d7016d3",
   "metadata": {},
   "outputs": [],
   "source": [
    "class HonestPlayer(BasePokerPlayer):\n",
    "    def __init__(self, raise_wr = 0.6, call_wr = 0.3, nb_sim=100):\n",
    "        super().__init__() \n",
    "        self.raise_wr = raise_wr\n",
    "        self.call_wr = call_wr\n",
    "        self.nb_sim = nb_sim\n",
    "        \n",
    "    def declare_action(self, valid_actions, hole_card, round_state):\n",
    "        curframe = inspect.currentframe()\n",
    "        calframe = inspect.getouterframes(curframe, 2)\n",
    "        community_card = round_state['community_card']\n",
    "        win_rate = estimate_hole_card_win_rate(\n",
    "                nb_simulation=self.nb_sim,\n",
    "                nb_player=self.nb_player,\n",
    "                hole_card=gen_cards(hole_card),\n",
    "                community_card=gen_cards(community_card)\n",
    "                )\n",
    "        if win_rate >= self.raise_wr:\n",
    "            #print('Raising)', win_rate)\n",
    "            action = valid_actions[2]  # fetch bet action info\n",
    "            valid_amounts = action['amount']\n",
    "            raise_amount =  (valid_amounts['max'] - valid_amounts['min'])/ 5.0 + valid_amounts['min']\n",
    "            return valid_actions[2]['action'], raise_amount\n",
    "        elif win_rate >= self.call_wr:\n",
    "            #print('Calling')\n",
    "            action = valid_actions[1]  # fetch CALL action info\n",
    "        else:\n",
    "            call_amount = valid_actions[1]['amount']\n",
    "            if(call_amount == 0):\n",
    "                #print('Calling')\n",
    "                return valid_actions[1]['action'], valid_actions[1]['amount']\n",
    "            #print('Folding')\n",
    "            action = valid_actions[0]  # fetch FOLD action info\n",
    "        return action['action'], action['amount']\n",
    "\n",
    "    def receive_game_start_message(self, game_info):\n",
    "        self.nb_player = game_info['player_num']\n",
    "\n",
    "    def receive_round_start_message(self, round_count, hole_card, seats):\n",
    "        pass\n",
    "\n",
    "    def receive_street_start_message(self, street, round_state):\n",
    "        pass\n",
    "\n",
    "    def receive_game_update_message(self, action, round_state):\n",
    "        pass\n",
    "\n",
    "    def receive_round_result_message(self, winners, hand_info, round_state):\n",
    "        pass"
   ]
  },
  {
   "cell_type": "code",
   "execution_count": null,
   "id": "c3bff00e-196d-4f36-bd9d-324175489305",
   "metadata": {},
   "outputs": [],
   "source": []
  },
  {
   "cell_type": "code",
   "execution_count": null,
   "id": "3b6b1dc5-8473-4583-bde2-2423eee7fe0c",
   "metadata": {},
   "outputs": [],
   "source": []
  },
  {
   "cell_type": "code",
   "execution_count": null,
   "id": "c1a7c88a-e60b-4028-ade6-8e0ea23f59da",
   "metadata": {},
   "outputs": [],
   "source": []
  },
  {
   "cell_type": "code",
   "execution_count": 3,
   "id": "70cc8e93-860b-4be4-91fd-90caf5c76f83",
   "metadata": {},
   "outputs": [
    {
     "ename": "AttributeError",
     "evalue": "'HonestPlayer' object has no attribute '_MessageHandler__parse_ask_message'",
     "output_type": "error",
     "traceback": [
      "\u001b[0;31m---------------------------------------------------------------------------\u001b[0m",
      "\u001b[0;31mAttributeError\u001b[0m                            Traceback (most recent call last)",
      "Cell \u001b[0;32mIn[3], line 8\u001b[0m\n\u001b[1;32m      6\u001b[0m config\u001b[38;5;241m.\u001b[39mregister_player(name\u001b[38;5;241m=\u001b[39m\u001b[38;5;124m\"\u001b[39m\u001b[38;5;124mp2\u001b[39m\u001b[38;5;124m\"\u001b[39m, algorithm\u001b[38;5;241m=\u001b[39mHonestPlayer(raise_wr \u001b[38;5;241m=\u001b[39m \u001b[38;5;241m0.9\u001b[39m, call_wr\u001b[38;5;241m=\u001b[39m\u001b[38;5;241m0.7\u001b[39m, nb_sim\u001b[38;5;241m=\u001b[39m\u001b[38;5;241m1000\u001b[39m))\n\u001b[1;32m      7\u001b[0m config\u001b[38;5;241m.\u001b[39mregister_player(name\u001b[38;5;241m=\u001b[39m\u001b[38;5;124m\"\u001b[39m\u001b[38;5;124mp3\u001b[39m\u001b[38;5;124m\"\u001b[39m, algorithm\u001b[38;5;241m=\u001b[39mHonestPlayer(raise_wr \u001b[38;5;241m=\u001b[39m \u001b[38;5;241m0.3\u001b[39m, call_wr\u001b[38;5;241m=\u001b[39m\u001b[38;5;241m0.1\u001b[39m, nb_sim\u001b[38;5;241m=\u001b[39m\u001b[38;5;241m10000\u001b[39m))\n\u001b[0;32m----> 8\u001b[0m game_result \u001b[38;5;241m=\u001b[39m start_poker(config, verbose\u001b[38;5;241m=\u001b[39m\u001b[38;5;241m0\u001b[39m)\n\u001b[1;32m      9\u001b[0m \u001b[38;5;66;03m#print(i, game_result)\u001b[39;00m\n\u001b[1;32m     10\u001b[0m players \u001b[38;5;241m=\u001b[39m game_result[\u001b[38;5;124m'\u001b[39m\u001b[38;5;124mplayers\u001b[39m\u001b[38;5;124m'\u001b[39m]\n",
      "File \u001b[0;32m~/Projects/Poker/MyPyPokerEngine/pypokerengine/api/game.py:14\u001b[0m, in \u001b[0;36mstart_poker\u001b[0;34m(config, verbose)\u001b[0m\n\u001b[1;32m     12\u001b[0m \u001b[38;5;28;01mfor\u001b[39;00m info \u001b[38;5;129;01min\u001b[39;00m config\u001b[38;5;241m.\u001b[39mplayers_info:\n\u001b[1;32m     13\u001b[0m     dealer\u001b[38;5;241m.\u001b[39mregister_player(info[\u001b[38;5;124m\"\u001b[39m\u001b[38;5;124mname\u001b[39m\u001b[38;5;124m\"\u001b[39m], info[\u001b[38;5;124m\"\u001b[39m\u001b[38;5;124malgorithm\u001b[39m\u001b[38;5;124m\"\u001b[39m])\n\u001b[0;32m---> 14\u001b[0m result_message \u001b[38;5;241m=\u001b[39m dealer\u001b[38;5;241m.\u001b[39mstart_game(config\u001b[38;5;241m.\u001b[39mmax_round)\n\u001b[1;32m     15\u001b[0m \u001b[38;5;28;01mreturn\u001b[39;00m _format_result(result_message)\n",
      "File \u001b[0;32m~/Projects/Poker/MyPyPokerEngine/pypokerengine/engine/dealer.py:41\u001b[0m, in \u001b[0;36mDealer.start_game\u001b[0;34m(self, max_round)\u001b[0m\n\u001b[1;32m     39\u001b[0m   table \u001b[38;5;241m=\u001b[39m \u001b[38;5;28mself\u001b[39m\u001b[38;5;241m.\u001b[39m__exclude_short_of_money_players(table, ante, sb_amount)\n\u001b[1;32m     40\u001b[0m   \u001b[38;5;28;01mif\u001b[39;00m \u001b[38;5;28mself\u001b[39m\u001b[38;5;241m.\u001b[39m__is_game_finished(table): \u001b[38;5;28;01mbreak\u001b[39;00m\n\u001b[0;32m---> 41\u001b[0m   table \u001b[38;5;241m=\u001b[39m \u001b[38;5;28mself\u001b[39m\u001b[38;5;241m.\u001b[39mplay_round(round_count, sb_amount, ante, table)\n\u001b[1;32m     42\u001b[0m   table\u001b[38;5;241m.\u001b[39mshift_dealer_btn()\n\u001b[1;32m     43\u001b[0m \u001b[38;5;28;01mreturn\u001b[39;00m \u001b[38;5;28mself\u001b[39m\u001b[38;5;241m.\u001b[39m__generate_game_result(max_round, table\u001b[38;5;241m.\u001b[39mseats)\n",
      "File \u001b[0;32m~/Projects/Poker/MyPyPokerEngine/pypokerengine/engine/dealer.py:50\u001b[0m, in \u001b[0;36mDealer.play_round\u001b[0;34m(self, round_count, blind_amount, ante, table)\u001b[0m\n\u001b[1;32m     48\u001b[0m \u001b[38;5;28mself\u001b[39m\u001b[38;5;241m.\u001b[39m__message_check(msgs, state[\u001b[38;5;124m\"\u001b[39m\u001b[38;5;124mstreet\u001b[39m\u001b[38;5;124m\"\u001b[39m])\n\u001b[1;32m     49\u001b[0m \u001b[38;5;28;01mif\u001b[39;00m state[\u001b[38;5;124m\"\u001b[39m\u001b[38;5;124mstreet\u001b[39m\u001b[38;5;124m\"\u001b[39m] \u001b[38;5;241m!=\u001b[39m Const\u001b[38;5;241m.\u001b[39mStreet\u001b[38;5;241m.\u001b[39mFINISHED:  \u001b[38;5;66;03m# continue the round\u001b[39;00m\n\u001b[0;32m---> 50\u001b[0m   action, bet_amount \u001b[38;5;241m=\u001b[39m \u001b[38;5;28mself\u001b[39m\u001b[38;5;241m.\u001b[39m__publish_messages(msgs)\n\u001b[1;32m     51\u001b[0m   state, msgs \u001b[38;5;241m=\u001b[39m RoundManager\u001b[38;5;241m.\u001b[39mapply_action(state, action, bet_amount)\n\u001b[1;32m     52\u001b[0m \u001b[38;5;28;01melse\u001b[39;00m:  \u001b[38;5;66;03m# finish the round after publish round result\u001b[39;00m\n",
      "File \u001b[0;32m~/Projects/Poker/MyPyPokerEngine/pypokerengine/engine/dealer.py:105\u001b[0m, in \u001b[0;36mDealer.__publish_messages\u001b[0;34m(self, msgs)\u001b[0m\n\u001b[1;32m    103\u001b[0m   \u001b[38;5;28mself\u001b[39m\u001b[38;5;241m.\u001b[39mmessage_handler\u001b[38;5;241m.\u001b[39mprocess_message(address, msg)\n\u001b[1;32m    104\u001b[0m \u001b[38;5;28mself\u001b[39m\u001b[38;5;241m.\u001b[39mmessage_summarizer\u001b[38;5;241m.\u001b[39msummarize_messages(msgs)\n\u001b[0;32m--> 105\u001b[0m \u001b[38;5;28;01mreturn\u001b[39;00m \u001b[38;5;28mself\u001b[39m\u001b[38;5;241m.\u001b[39mmessage_handler\u001b[38;5;241m.\u001b[39mprocess_message(\u001b[38;5;241m*\u001b[39mmsgs[\u001b[38;5;241m-\u001b[39m\u001b[38;5;241m1\u001b[39m])\n",
      "File \u001b[0;32m~/Projects/Poker/MyPyPokerEngine/pypokerengine/engine/dealer.py:198\u001b[0m, in \u001b[0;36mMessageHandler.process_message\u001b[0;34m(self, address, msg)\u001b[0m\n\u001b[1;32m    196\u001b[0m \u001b[38;5;28;01mfor\u001b[39;00m receiver \u001b[38;5;129;01min\u001b[39;00m receivers:\n\u001b[1;32m    197\u001b[0m   \u001b[38;5;28;01mif\u001b[39;00m msg[\u001b[38;5;124m\"\u001b[39m\u001b[38;5;124mtype\u001b[39m\u001b[38;5;124m\"\u001b[39m] \u001b[38;5;241m==\u001b[39m \u001b[38;5;124m'\u001b[39m\u001b[38;5;124mask\u001b[39m\u001b[38;5;124m'\u001b[39m:\n\u001b[0;32m--> 198\u001b[0m     valid_actions, _, _ \u001b[38;5;241m=\u001b[39m receiver\u001b[38;5;241m.\u001b[39m__parse_ask_message(message)\n\u001b[1;32m    199\u001b[0m     \u001b[38;5;28;01mif\u001b[39;00m(receiver_time_violation_count \u001b[38;5;241m>\u001b[39m \u001b[38;5;28mself\u001b[39m\u001b[38;5;241m.\u001b[39mmax_time_violations):\n\u001b[1;32m    200\u001b[0m         \u001b[38;5;28mprint\u001b[39m(\u001b[38;5;124m'\u001b[39m\u001b[38;5;124mPlayer \u001b[39m\u001b[38;5;132;01m{0}\u001b[39;00m\u001b[38;5;124m violated the time limit more than allowable limit (\u001b[39m\u001b[38;5;132;01m{1}\u001b[39;00m\u001b[38;5;124m). Folding (always).\u001b[39m\u001b[38;5;124m'\u001b[39m\u001b[38;5;241m.\u001b[39mformat(\u001b[38;5;28mself\u001b[39m\u001b[38;5;241m.\u001b[39mname, \u001b[38;5;28mself\u001b[39m\u001b[38;5;241m.\u001b[39mmax_time_violations))\n",
      "\u001b[0;31mAttributeError\u001b[0m: 'HonestPlayer' object has no attribute '_MessageHandler__parse_ask_message'"
     ]
    }
   ],
   "source": [
    "results_dict = {'p1': [], 'p2': [], 'p3': [], 'p4': []}\n",
    "initial_stack = 1000\n",
    "for i in range(1):\n",
    "    config = setup_config(max_round=1000, initial_stack=initial_stack, small_blind_amount=5)\n",
    "    config.register_player(name=\"p1\", algorithm=HonestPlayer(nb_sim=100))\n",
    "    config.register_player(name=\"p2\", algorithm=HonestPlayer(raise_wr = 0.9, call_wr=0.7, nb_sim=1000))\n",
    "    config.register_player(name=\"p3\", algorithm=HonestPlayer(raise_wr = 0.3, call_wr=0.1, nb_sim=10000))\n",
    "    game_result = start_poker(config, verbose=0)\n",
    "    #print(i, game_result)\n",
    "    players = game_result['players']\n",
    "    for player in players:\n",
    "        results_dict[player['name']] += [player['stack'] - initial_stack]\n",
    "\n",
    "print(results_dict)\n",
    "\n"
   ]
  },
  {
   "cell_type": "code",
   "execution_count": null,
   "id": "f431a259-042d-43f4-813d-eb547b15e524",
   "metadata": {},
   "outputs": [],
   "source": [
    "\n",
    "def plot_running_sums(data):\n",
    "  \"\"\"Plots the running sums of a dictionary of arrays.\n",
    "\n",
    "  Args:\n",
    "    data: A dictionary where the keys are labels and the values are arrays of numbers.\n",
    "  \"\"\"\n",
    "\n",
    "  for label, values in data.items():\n",
    "    running_sum = np.cumsum(values)\n",
    "    plt.plot(running_sum, label=label)\n",
    "\n",
    "  plt.xlabel(\"Index\")\n",
    "  plt.ylabel(\"Running Sum\")\n",
    "  plt.legend()\n",
    "  plt.show()\n",
    "\n",
    "plot_running_sums(results_dict)"
   ]
  },
  {
   "cell_type": "code",
   "execution_count": null,
   "id": "80e2bf6d-1a20-4c25-9e23-281eb9a9500f",
   "metadata": {},
   "outputs": [],
   "source": []
  },
  {
   "cell_type": "code",
   "execution_count": null,
   "id": "f821f025-54a5-49d1-9b62-e313032f1c87",
   "metadata": {},
   "outputs": [],
   "source": []
  },
  {
   "cell_type": "code",
   "execution_count": null,
   "id": "138cf02b-1be0-4745-9b5f-e4fefea3106b",
   "metadata": {},
   "outputs": [],
   "source": []
  },
  {
   "cell_type": "code",
   "execution_count": null,
   "id": "1ba10398-d29c-4797-a0ec-1283af8eb5cd",
   "metadata": {},
   "outputs": [],
   "source": []
  },
  {
   "cell_type": "code",
   "execution_count": null,
   "id": "ad397ffd-d66e-4b5d-8bdf-5f0855e192a2",
   "metadata": {},
   "outputs": [],
   "source": []
  }
 ],
 "metadata": {
  "kernelspec": {
   "display_name": "Python 3 (ipykernel)",
   "language": "python",
   "name": "python3"
  },
  "language_info": {
   "codemirror_mode": {
    "name": "ipython",
    "version": 3
   },
   "file_extension": ".py",
   "mimetype": "text/x-python",
   "name": "python",
   "nbconvert_exporter": "python",
   "pygments_lexer": "ipython3",
   "version": "3.12.7"
  }
 },
 "nbformat": 4,
 "nbformat_minor": 5
}
